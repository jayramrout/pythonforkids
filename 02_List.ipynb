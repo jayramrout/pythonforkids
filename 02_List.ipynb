{
 "cells": [
  {
   "cell_type": "markdown",
   "metadata": {},
   "source": [
    "##### Assignment 01\n",
    "    1.Create a String List my_hobbies with items as your hobbies\n",
    "    2.Use For Loop to print the Items in the list\n",
    "    Example\n",
    "    If your list is\n",
    "    my_hobbies  = [‘a’,’b’,’c’,’d’]\n",
    "\n",
    "    output should be\n",
    "    Hobby Number 1 = a\n",
    "    Hobby Number 2 = b\n",
    "    Hobby Number 3 = c\n",
    "    Hobby Number 4 = d"
   ]
  },
  {
   "cell_type": "markdown",
   "metadata": {},
   "source": []
  },
  {
   "cell_type": "markdown",
   "metadata": {},
   "source": [
    "##### Assignment 02\n",
    "\n",
    "    1.       Create a String List my_hobbies with items as your hobbies\n",
    "    2.       Use For Loop to print the Items in the list in opposite order\n",
    "\n",
    "    Example\n",
    "    If your list is\n",
    "    my_hobbies  = [‘a’,’b’,’c’,’d’]\n",
    "    output should be\n",
    "    Hobby Number 4 = d\n",
    "    Hobby Number 3 = c\n",
    "    Hobby Number 2 = b\n",
    "    Hobby Number 1 = a"
   ]
  },
  {
   "cell_type": "code",
   "execution_count": null,
   "metadata": {},
   "outputs": [],
   "source": []
  },
  {
   "cell_type": "markdown",
   "metadata": {},
   "source": [
    "##### Assignment 03\n",
    "\n",
    "    1.       Create a String List my_fav_cities with items 4 cities\n",
    "    2.       Print the List\n",
    "    3.       Use (if .. else) to check if ‘Washington’ is present in the list.\n",
    "    4.       If Washington is present in the list, print ‘Yeah .. Washington is already present’\n",
    "    5.       If Washington is not present in the list add Washington to the list\n",
    "    6.       Print the List"
   ]
  },
  {
   "cell_type": "code",
   "execution_count": null,
   "metadata": {},
   "outputs": [],
   "source": []
  },
  {
   "cell_type": "markdown",
   "metadata": {},
   "source": [
    "##### Assignment 04\n",
    "\n",
    "    1.       Create a Map State_Capital and populate with 5 US State and Capital combinations\n",
    "    2.       Use For Loop to Print all  the Map key value pairs\n",
    "                        State = ‘Mass’    Capital = ‘Boston’\n",
    "    3.       Use (if .. else) to check if we have the capital for ‘California’ in the list.\n",
    "    4.       If California is present in the list, print ‘Yeah .. California is already present’\n",
    "    5.       If California is not present in the list, print ‘Oops .. California is not present’\n",
    "    6.       Print the List"
   ]
  },
  {
   "cell_type": "code",
   "execution_count": null,
   "metadata": {},
   "outputs": [],
   "source": []
  },
  {
   "cell_type": "markdown",
   "metadata": {},
   "source": [
    "##### Assignment 05\n",
    "\n",
    "    1.       Create a list my_numbers and add 5 numbers to it\n",
    "    2.       Use For Loop to copy all items in the list to a list my_numbers_copy\n",
    "    3.       Add All the Numbers in the List and print the output"
   ]
  },
  {
   "cell_type": "code",
   "execution_count": null,
   "metadata": {},
   "outputs": [],
   "source": []
  },
  {
   "cell_type": "markdown",
   "metadata": {},
   "source": [
    "##### Assignment 06\n",
    "\n",
    "    1.    Create a string Variable my_name=’ARUN ARORA’\n",
    "    2.    Use lower() function to convert the string to lower case\n",
    "    3.    Store the lowercase output in a string my_lower_name\n",
    "    4.    Print the variable my_lower_name"
   ]
  },
  {
   "cell_type": "code",
   "execution_count": null,
   "metadata": {},
   "outputs": [],
   "source": []
  },
  {
   "cell_type": "markdown",
   "metadata": {},
   "source": [
    "##### Assignment 07\n",
    "\n",
    "    1.    Create a string Variable my_string and assign any value to it\n",
    "    2.    Use startswith() function to check if string starts with letter ‘A’\n",
    "    3.    If the string starts with ‘A’ Then print ‘Yes .. String Starts with A’"
   ]
  },
  {
   "cell_type": "code",
   "execution_count": null,
   "metadata": {},
   "outputs": [],
   "source": []
  }
 ],
 "metadata": {
  "kernelspec": {
   "display_name": "Python 3",
   "language": "python",
   "name": "python3"
  },
  "language_info": {
   "codemirror_mode": {
    "name": "ipython",
    "version": 3
   },
   "file_extension": ".py",
   "mimetype": "text/x-python",
   "name": "python",
   "nbconvert_exporter": "python",
   "pygments_lexer": "ipython3",
   "version": "3.8.5"
  }
 },
 "nbformat": 4,
 "nbformat_minor": 4
}
