{
 "cells": [
  {
   "cell_type": "code",
   "execution_count": 1,
   "metadata": {},
   "outputs": [],
   "source": [
    "# Assignment 1\n",
    "# Ask for user input 'Enter your password'\n",
    "# if password is \"secret\", print 'You can enter!' otherwise print 'Try again!'"
   ]
  },
  {
   "cell_type": "code",
   "execution_count": 2,
   "metadata": {},
   "outputs": [],
   "source": [
    "# Assignment 2\n",
    "# Evaluate Student grade\n",
    "# LMS student grade table\n",
    "# Grade A+ = 97 - 100\n",
    "# Grade A = 93 - 96\n",
    "# Grade A- = 90 - 92\n",
    "# Grade B+ = 87 - 89\n",
    "# Grade B = 83 - 86\n",
    "# Grade B- = 80 - 82\n",
    "# Grade C+ = 77 - 79\n",
    "# Grade C = 73 - 76\n",
    "# Grade C- = 70 - 72\n",
    "# Grade D+ = 67 - 69\n",
    "# Grade D = 63 - 66\n",
    "# Grade D- = 60 - 62\n",
    "# Grade F+ = 50 - 59\n",
    "# Grade F = 49 and under\n",
    "# Ask for student exam score (between 0 = 100)\n",
    "# Evaluate student grade and print result as \"Student Grade is X\"\n",
    "# Try with different values: 100, 98, 95, 91, 90, 87, 84, 80, 78, 74, 71, 69, 65, 60, 55, 50, 49, 35\n"
   ]
  },
  {
   "cell_type": "code",
   "execution_count": null,
   "metadata": {},
   "outputs": [],
   "source": [
    "# Assignment 3\n",
    "# Ask for user input 'Enter your password'\n",
    "# if password is \"password\" or \"12345\" or \"qwerty\", print 'Insecure password' otherwise print 'You can enter!'"
   ]
  }
 ],
 "metadata": {
  "kernelspec": {
   "display_name": "Python 3",
   "language": "python",
   "name": "python3"
  },
  "language_info": {
   "codemirror_mode": {
    "name": "ipython",
    "version": 3
   },
   "file_extension": ".py",
   "mimetype": "text/x-python",
   "name": "python",
   "nbconvert_exporter": "python",
   "pygments_lexer": "ipython3",
   "version": "3.8.5"
  }
 },
 "nbformat": 4,
 "nbformat_minor": 4
}
