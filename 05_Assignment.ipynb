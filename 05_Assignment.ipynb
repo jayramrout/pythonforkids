{
 "cells": [
  {
   "cell_type": "code",
   "execution_count": 10,
   "metadata": {},
   "outputs": [],
   "source": [
    "# Assignment 1\n",
    "\n",
    "# Write a python program to print the following pattern.\n",
    "# *\n",
    "# * *\n",
    "# * * *\n",
    "# * * * *\n",
    "# * * * * *\n"
   ]
  },
  {
   "cell_type": "code",
   "execution_count": 1,
   "metadata": {},
   "outputs": [],
   "source": [
    "# Assignment 2\n",
    "#\n",
    "# Write a python program to print the following pattern.\n",
    "#\n",
    "# * * * * *\n",
    "# * * * *\n",
    "# * * *\n",
    "# * *\n",
    "# *"
   ]
  },
  {
   "cell_type": "code",
   "execution_count": 2,
   "metadata": {},
   "outputs": [],
   "source": [
    "# Assignment 3\n",
    "# Write a python program to print all the numbers from 1 to n which are divisible by 5. \n",
    "# n is the input to be provided by user."
   ]
  },
  {
   "cell_type": "code",
   "execution_count": 3,
   "metadata": {},
   "outputs": [],
   "source": [
    "# Assignment 4\n",
    "# Write a python program to find the sum of first n natural numbers. n is the input to be provided by user.\n",
    "\n",
    "# 1+2+3+4+5+……………+n"
   ]
  },
  {
   "cell_type": "code",
   "execution_count": 4,
   "metadata": {},
   "outputs": [],
   "source": [
    "# Assignment 5\n",
    "#\n",
    "# Consider a tuple T=(24, 67, 34, 89, 56, 47, 26, 74). \n",
    "# Write a python program to find maximum value of the tuple using 'for' loop"
   ]
  },
  {
   "cell_type": "code",
   "execution_count": 5,
   "metadata": {},
   "outputs": [],
   "source": [
    "# Assignment 6\n",
    "# Write a Python program to find those numbers which are divisible by \n",
    "# 7 and multiple of 5, between 1500 and 2700 (both included)"
   ]
  },
  {
   "cell_type": "code",
   "execution_count": 8,
   "metadata": {},
   "outputs": [],
   "source": [
    "# Assignment 7\n",
    "# Write a Python program to print alphabet pattern 'A' using 'for' loop and conditions. \n",
    "# Expected Output:\n",
    "#\n",
    "#  ***                                                                   \n",
    "# *   *                                                                  \n",
    "# *   *                                                                  \n",
    "# *****                                                                  \n",
    "# *   *                                                                  \n",
    "# *   *                                                                  \n",
    "# *   *"
   ]
  },
  {
   "cell_type": "code",
   "execution_count": 9,
   "metadata": {},
   "outputs": [],
   "source": [
    "# Assignment 8\n",
    "# Write a python program to print numbers from 1 to 10 except 4 and 7 using 'for' loop and conditions.\n"
   ]
  },
  {
   "cell_type": "code",
   "execution_count": 10,
   "metadata": {},
   "outputs": [],
   "source": [
    "# Assignment 9\n",
    "# Consider a tuple T=( 34, 53, 67, 86, 42, 28, 75, 49, 23, 65). \n",
    "# Write a Python program to count the number of even and odd numbers in the tuple."
   ]
  },
  {
   "cell_type": "code",
   "execution_count": 11,
   "metadata": {},
   "outputs": [],
   "source": [
    "# Assignment 10\n",
    "# Write a python program to print multiplication table of the given number."
   ]
  },
  {
   "cell_type": "code",
   "execution_count": 12,
   "metadata": {},
   "outputs": [],
   "source": [
    "# Assignment 11\n",
    "# Write a Python program to print alphabet pattern 'D'. \n",
    "# Expected Output:\n",
    "#\n",
    "# ****                                                                   \n",
    "# *   *                                                                  \n",
    "# *   *                                                                  \n",
    "# *   *                                                                  \n",
    "# *   *                                                                  \n",
    "# *   *                                                                  \n",
    "# **** \n"
   ]
  },
  {
   "cell_type": "code",
   "execution_count": null,
   "metadata": {},
   "outputs": [],
   "source": []
  }
 ],
 "metadata": {
  "kernelspec": {
   "display_name": "Python 3",
   "language": "python",
   "name": "python3"
  },
  "language_info": {
   "codemirror_mode": {
    "name": "ipython",
    "version": 3
   },
   "file_extension": ".py",
   "mimetype": "text/x-python",
   "name": "python",
   "nbconvert_exporter": "python",
   "pygments_lexer": "ipython3",
   "version": "3.8.5"
  }
 },
 "nbformat": 4,
 "nbformat_minor": 4
}
