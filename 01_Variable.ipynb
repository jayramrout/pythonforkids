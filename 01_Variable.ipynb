{
 "cells": [
  {
   "cell_type": "code",
   "execution_count": 1,
   "metadata": {},
   "outputs": [
    {
     "name": "stdout",
     "output_type": "stream",
     "text": [
      "Hello World\n"
     ]
    }
   ],
   "source": [
    "print(\"Hello World\")"
   ]
  },
  {
   "cell_type": "code",
   "execution_count": 3,
   "metadata": {},
   "outputs": [
    {
     "name": "stdout",
     "output_type": "stream",
     "text": [
      "Anika\n"
     ]
    }
   ],
   "source": [
    "name = \"Anika\"\n",
    "print(name)"
   ]
  },
  {
   "cell_type": "code",
   "execution_count": 3,
   "metadata": {},
   "outputs": [
    {
     "name": "stdout",
     "output_type": "stream",
     "text": [
      "7\n"
     ]
    }
   ],
   "source": [
    "# Variable\n",
    "lap = \"Windows\"\n",
    "print(len(lap))"
   ]
  },
  {
   "cell_type": "code",
   "execution_count": 8,
   "metadata": {},
   "outputs": [
    {
     "name": "stdout",
     "output_type": "stream",
     "text": [
      "Enter your nameYolo\n",
      "Hello  Yolo How are you!!Good Evening\n"
     ]
    }
   ],
   "source": [
    "# input is a function\n",
    "name = input(\"Enter your name\")\n",
    "print(\"Hello \",name, \"How are you!!Good Evening\")"
   ]
  },
  {
   "cell_type": "code",
   "execution_count": 7,
   "metadata": {},
   "outputs": [
    {
     "name": "stdout",
     "output_type": "stream",
     "text": [
      "Hello  Dan How are you!!Good Evening\n"
     ]
    }
   ],
   "source": [
    "print(\"Hello  Dan How are you!!Good Evening\")"
   ]
  },
  {
   "cell_type": "code",
   "execution_count": 11,
   "metadata": {},
   "outputs": [
    {
     "name": "stdout",
     "output_type": "stream",
     "text": [
      "Enter your First nameDan\n",
      "Enter your Last nameMyKally\n",
      "Enter your age3\n",
      "Hello  Dan MyKally Your age is  3\n"
     ]
    }
   ],
   "source": [
    "fname = input(\"Enter your First name\")\n",
    "lname = input(\"Enter your Last name\")\n",
    "age = input(\"Enter your age\")\n",
    "\n",
    "print(\"Hello \", fname , lname , \"Your age is \", age)\n"
   ]
  },
  {
   "cell_type": "code",
   "execution_count": 10,
   "metadata": {},
   "outputs": [
    {
     "name": "stdout",
     "output_type": "stream",
     "text": [
      "Dan\n"
     ]
    }
   ],
   "source": [
    "print(fname)"
   ]
  },
  {
   "cell_type": "code",
   "execution_count": 13,
   "metadata": {},
   "outputs": [
    {
     "name": "stdout",
     "output_type": "stream",
     "text": [
      "30\n",
      "-10\n"
     ]
    }
   ],
   "source": [
    "# Add two Number\n",
    "# Hash is just to comment the program.\n",
    "# Arithemetic\n",
    "\n",
    "a = 10\n",
    "b = 20\n",
    "\n",
    "print(a+b)\n",
    "print(a-b)\n"
   ]
  },
  {
   "cell_type": "code",
   "execution_count": 14,
   "metadata": {},
   "outputs": [
    {
     "name": "stdout",
     "output_type": "stream",
     "text": [
      "36\n"
     ]
    }
   ],
   "source": [
    "# x and Y --> (2x + 3Y + 7)\n",
    "x = 10\n",
    "y = 3\n",
    "\n",
    "value = (2*10) + (3*3) + 7\n",
    "print(value)"
   ]
  },
  {
   "cell_type": "code",
   "execution_count": 15,
   "metadata": {},
   "outputs": [
    {
     "name": "stdout",
     "output_type": "stream",
     "text": [
      "Result for the formula is :  36\n"
     ]
    }
   ],
   "source": [
    "# x and Y --> (2x + 3Y + 7)\n",
    "x = 10\n",
    "y = 3\n",
    "\n",
    "value = (2*x) + (3*y) + 7\n",
    "print(\"Result for the formula is : \", value)"
   ]
  },
  {
   "cell_type": "code",
   "execution_count": 17,
   "metadata": {},
   "outputs": [
    {
     "name": "stdout",
     "output_type": "stream",
     "text": [
      "Enter the value of X2\n",
      "Enter the value for Y3\n",
      "Result for the formula is :  20\n"
     ]
    }
   ],
   "source": [
    "# x and Y --> (2x + 3Y + 7)\n",
    "x = input(\"Enter the value of X\")\n",
    "y = input(\"Enter the value for Y\")\n",
    "\n",
    "#NOTE: make sure to convert the input to a int\n",
    "# 10 is an integer\n",
    "# Hello is a String\n",
    "# 10.2 is float\n",
    "\n",
    "value = (2*int(x)) + (3*int(y)) + 7\n",
    "print(\"Result for the formula is : \", value)"
   ]
  }
 ],
 "metadata": {
  "kernelspec": {
   "display_name": "Python 3",
   "language": "python",
   "name": "python3"
  },
  "language_info": {
   "codemirror_mode": {
    "name": "ipython",
    "version": 3
   },
   "file_extension": ".py",
   "mimetype": "text/x-python",
   "name": "python",
   "nbconvert_exporter": "python",
   "pygments_lexer": "ipython3",
   "version": "3.8.5"
  }
 },
 "nbformat": 4,
 "nbformat_minor": 4
}
